{
  "nbformat": 4,
  "nbformat_minor": 5,
  "metadata": {
    "kernelspec": {
      "display_name": "Python 3 (ipykernel)",
      "language": "python",
      "name": "python3"
    },
    "language_info": {
      "codemirror_mode": {
        "name": "ipython",
        "version": 3
      },
      "file_extension": ".py",
      "mimetype": "text/x-python",
      "name": "python",
      "nbconvert_exporter": "python",
      "pygments_lexer": "ipython3",
      "version": "3.8.11"
    },
    "colab": {
      "name": "train_test_graph.ipynb",
      "provenance": [],
      "collapsed_sections": []
    },
    "accelerator": "GPU"
  },
  "cells": [
    {
      "cell_type": "markdown",
      "source": [
        "Load packages"
      ],
      "metadata": {
        "id": "Bimlmy1CAuA8"
      },
      "id": "Bimlmy1CAuA8"
    },
    {
      "cell_type": "code",
      "metadata": {
        "id": "ff6eac87"
      },
      "source": [
        "import torch\n",
        "import glob\n",
        "import matplotlib.pyplot as plt\n",
        "import numpy as np"
      ],
      "id": "ff6eac87",
      "execution_count": 2,
      "outputs": []
    },
    {
      "cell_type": "markdown",
      "source": [
        "We used moving average for nice plot"
      ],
      "metadata": {
        "id": "IvvD5CnDAxql"
      },
      "id": "IvvD5CnDAxql"
    },
    {
      "cell_type": "code",
      "source": [
        "def moving_average(a, n=20):\n",
        "  ret = np.cumsum(a,dtype =float)\n",
        "  ret[n:] = ret[n:] - ret[:-n]\n",
        "  return ret[n-1:] / n"
      ],
      "metadata": {
        "id": "AXF5ugLxx9PZ"
      },
      "id": "AXF5ugLxx9PZ",
      "execution_count": null,
      "outputs": []
    },
    {
      "cell_type": "markdown",
      "source": [
        "Load checkpoints and plot!"
      ],
      "metadata": {
        "id": "JpSMRt8yA0lB"
      },
      "id": "JpSMRt8yA0lB"
    },
    {
      "cell_type": "code",
      "source": [
        "plt.figure()\n",
        "\n",
        "for file_name in glob.glob('model_checkpoints/*'):\n",
        "  plt.subplot(1,2,1)\n",
        "  checkpoint = torch.load(file_name)\n",
        "  rewards = checkpoint['training rewards']\n",
        "  rewards = [item.numpy() for item in rewards]\n",
        "  avg = moving_average(rewards,50)\n",
        "  plt.plot(np.linspace(0,checkpoint['total steps'],len(avg)),avg, '-')\n",
        "\n",
        "  plt.subplot(1,2,2)\n",
        "  rewards = checkpoint['test rewards']\n",
        "  rewards = [item.numpy() for item in rewards]\n",
        "  avg = moving_average(rewards,50)\n",
        "  plt.plot(np.linspace(0,checkpoint['total steps'],len(avg)),avg, '-')"
      ],
      "metadata": {
        "id": "nxJ50aEo_tVl"
      },
      "id": "nxJ50aEo_tVl",
      "execution_count": null,
      "outputs": []
    }
  ]
}